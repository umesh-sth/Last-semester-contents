{
  "nbformat": 4,
  "nbformat_minor": 0,
  "metadata": {
    "colab": {
      "provenance": []
    },
    "kernelspec": {
      "name": "python3",
      "display_name": "Python 3"
    },
    "language_info": {
      "name": "python"
    }
  },
  "cells": [
    {
      "cell_type": "code",
      "execution_count": null,
      "metadata": {
        "colab": {
          "base_uri": "https://localhost:8080/"
        },
        "id": "BACAm5fkzU2t",
        "outputId": "a37388ae-f301-4730-f81d-c2064fc30936"
      },
      "outputs": [
        {
          "output_type": "stream",
          "name": "stdout",
          "text": [
            "Looking in indexes: https://pypi.org/simple, https://us-python.pkg.dev/colab-wheels/public/simple/\n",
            "Collecting cryptography\n",
            "  Downloading cryptography-39.0.0-cp36-abi3-manylinux_2_28_x86_64.whl (4.2 MB)\n",
            "\u001b[2K     \u001b[90m━━━━━━━━━━━━━━━━━━━━━━━━━━━━━━━━━━━━━━━━\u001b[0m \u001b[32m4.2/4.2 MB\u001b[0m \u001b[31m40.6 MB/s\u001b[0m eta \u001b[36m0:00:00\u001b[0m\n",
            "\u001b[?25hRequirement already satisfied: cffi>=1.12 in /usr/local/lib/python3.8/dist-packages (from cryptography) (1.15.1)\n",
            "Requirement already satisfied: pycparser in /usr/local/lib/python3.8/dist-packages (from cffi>=1.12->cryptography) (2.21)\n",
            "Installing collected packages: cryptography\n",
            "Successfully installed cryptography-39.0.0\n",
            "Looking in indexes: https://pypi.org/simple, https://us-python.pkg.dev/colab-wheels/public/simple/\n",
            "Collecting pycryptodome\n",
            "  Downloading pycryptodome-3.16.0-cp35-abi3-manylinux_2_5_x86_64.manylinux1_x86_64.manylinux_2_12_x86_64.manylinux2010_x86_64.whl (2.3 MB)\n",
            "\u001b[2K     \u001b[90m━━━━━━━━━━━━━━━━━━━━━━━━━━━━━━━━━━━━━━━━\u001b[0m \u001b[32m2.3/2.3 MB\u001b[0m \u001b[31m24.4 MB/s\u001b[0m eta \u001b[36m0:00:00\u001b[0m\n",
            "\u001b[?25hInstalling collected packages: pycryptodome\n",
            "Successfully installed pycryptodome-3.16.0\n",
            "Looking in indexes: https://pypi.org/simple, https://us-python.pkg.dev/colab-wheels/public/simple/\n",
            "Collecting kerberos\n",
            "  Downloading kerberos-1.3.1.tar.gz (19 kB)\n",
            "  Preparing metadata (setup.py) ... \u001b[?25l\u001b[?25hdone\n",
            "Building wheels for collected packages: kerberos\n",
            "  Building wheel for kerberos (setup.py) ... \u001b[?25l\u001b[?25hdone\n",
            "  Created wheel for kerberos: filename=kerberos-1.3.1-cp38-cp38-linux_x86_64.whl size=70727 sha256=bc6fb39892da4c90929f20251ee174c9aba91382bab032576f437e43d0500acd\n",
            "  Stored in directory: /root/.cache/pip/wheels/95/89/ea/535830ccd75b7cac73746fa8741d05dbcb08649b99c1b11c74\n",
            "Successfully built kerberos\n",
            "Installing collected packages: kerberos\n",
            "Successfully installed kerberos-1.3.1\n"
          ]
        }
      ],
      "source": [
        "# Practe Symmetric-key Encryption\n",
        "!pip install cryptography\n",
        "!pip install pycryptodome\n",
        "!pip install kerberos"
      ]
    },
    {
      "cell_type": "code",
      "source": [
        "#Practice symmetric encryption - #5\n",
        "#Fernet is used to generate the key or use random key generator\n",
        "#Importing the fernet library\n",
        "from cryptography.fernet import Fernet\n",
        "#General Message\n",
        "message = \"Hello Kathmandu University!\"\n",
        "#Generating a encryption key using library\n",
        "key = Fernet.generate_key()\n",
        "# Instanciate the class with the encryption key \n",
        "fernet = Fernet(key)\n",
        "#Encrypting the string using fernet. \n",
        "#First, need to encode to byte string before encryption\n",
        "encryptMessage = fernet.encrypt(message.encode())\n",
        "\n",
        "print(\"Original String: \", message)\n",
        "print(\"Encrypt String: \", encryptMessage)\n",
        "\n",
        "#Decrypt the string using the same key \n",
        "#which is already associated with the object\n",
        "decryptMessage = fernet.decrypt(encryptMessage).decode()\n",
        "print(\"decrypted string: \", decryptMessage)"
      ],
      "metadata": {
        "colab": {
          "base_uri": "https://localhost:8080/"
        },
        "id": "UkiJXL9EztXU",
        "outputId": "5ea8cbae-19c4-46b2-e5da-fd40e4ca83a7"
      },
      "execution_count": null,
      "outputs": [
        {
          "output_type": "stream",
          "name": "stdout",
          "text": [
            "Original String:  Hello Kathmandu University!\n",
            "Encrypt String:  b'gAAAAABj01TGMFVfAs3btYEvpQFOM6WoQEbwL5Vy4g64A3yFo6G1grFf-E-DQuEwq04kzqYgsQVk5MO_UJpyeHAxURuE5Azx2HXmsdcbytOlseFNuaK2rM0='\n",
            "decrypted string:  Hello Kathmandu University!\n"
          ]
        }
      ]
    },
    {
      "cell_type": "code",
      "source": [
        "# Practice for Substitution Ciphers - Caeser Cipher - #7\n",
        "def encrypt(text,s):\n",
        "    result = \"\"\n",
        " \n",
        "    # traverse text\n",
        "    for i in range(len(text)):\n",
        "        char = text[i]\n",
        " \n",
        "        # Encrypt uppercase characters\n",
        "        if (char.isupper()):\n",
        "            result += chr((ord(char) + s - 65) % 26 + 65)\n",
        "        # Encrypt lowercase characters\n",
        "        elif (char.islower()):\n",
        "            result += chr((ord(char) + s - 97) % 26 + 97)\n",
        "        else:\n",
        "            result += chr((ord(char)))\n",
        " \n",
        "    return result\n",
        "\n",
        "def decrypt(text,s):\n",
        "    result = \"\"\n",
        " \n",
        "    # traverse text\n",
        "    for i in range(len(text)):\n",
        "        char = text[i]\n",
        " \n",
        "        # Encrypt uppercase characters\n",
        "        if (char.isupper()):\n",
        "            result += chr((ord(char) - s - 65) % 26 + 65)\n",
        "        # Encrypt lowercase characters\n",
        "        elif (char.islower()):\n",
        "            result += chr((ord(char) - s - 97) % 26 + 97)\n",
        "        else:\n",
        "            result += chr((ord(char)))\n",
        " \n",
        "    return result\n",
        "#check the above function\n",
        "text = \"Hello Kathmandu University!\"\n",
        "shift = 4\n",
        "print (\"Original String  : \" + text)\n",
        "print (\"Shift : \" + str(shift))\n",
        "encryptMessage = encrypt(text,shift)\n",
        "print (\"Encrypted String: \" + encryptMessage)\n",
        "decryptMessage = decrypt(encryptMessage, shift)\n",
        "print (\"Decrypt String: \" + decryptMessage)\n"
      ],
      "metadata": {
        "colab": {
          "base_uri": "https://localhost:8080/"
        },
        "id": "U0X4wEfmJZ5Q",
        "outputId": "43bc7613-efcf-4286-eab1-54881e8b9ac5"
      },
      "execution_count": null,
      "outputs": [
        {
          "output_type": "stream",
          "name": "stdout",
          "text": [
            "Original String  : Hello Kathmandu University!\n",
            "Shift : 4\n",
            "Encrypted String: Lipps Oexlqerhy Yrmzivwmxc!\n",
            "Decrypt String: Hello Kathmandu University!\n"
          ]
        }
      ]
    },
    {
      "cell_type": "code",
      "source": [
        "# Practice for Substitution Ciphers - Monoalphabetic Cipher #9\n",
        "inputTextMap  = 'ABCDEFGHIJKLMNOPQRSTUVWXYZabcdefghijklmnopqrstuvwxyz'\n",
        "outputTextMap = 'NOPQRSTUVWXYZABCDEFGHIJKLMnopqrstuvwxyzabcdefghijklm'\n",
        "\n",
        "message = 'Hello Kathmandu University!'\n",
        "#zip takes inerable and returns an iterator\n",
        "#Iterator generates a series of tuples containing elements from each iterable\n",
        "#ord returns the number representing the unicode code of a specified character\n",
        "#Encrypt the message\n",
        "encryptMessage = message.translate({ord(x): y for (x, y) in zip(inputTextMap, outputTextMap)})\n",
        "print(\"Original string: \", message)\n",
        "print(\"Encrypted string: \", encryptMessage)\n",
        "\n",
        "#Decrypting the Message\n",
        "decryptMessage = encryptMessage.translate({ord(x): y for (x, y) in zip(outputTextMap, inputTextMap)})\n",
        "print(\"Decrypted string: \", decryptMessage)\n"
      ],
      "metadata": {
        "colab": {
          "base_uri": "https://localhost:8080/"
        },
        "outputId": "7d0f4835-3ee4-4b9f-db49-e394a1fbba40",
        "id": "nUkNCeJ8P6-j"
      },
      "execution_count": null,
      "outputs": [
        {
          "output_type": "stream",
          "name": "stdout",
          "text": [
            "Original string:  Hello Kathmandu University!\n",
            "Encrypted string:  Uryyb Xnguznaqh Havirefvgl!\n",
            "Decrypted string:  Hello Kathmandu University!\n"
          ]
        }
      ]
    },
    {
      "cell_type": "code",
      "source": [
        "# Practice for Substitution Ciphers - Polyalphabetic cipher or Vigenere cipher #10\n",
        "import string\n",
        "ALPHABET = string.ascii_lowercase\n",
        "CHARACTERS_THAT_MUST_REMAIN_THE_SAME = string.digits + string.punctuation + string.whitespace\n",
        "# returns the letter at the index position \n",
        "def cycle_get(lst,index):\n",
        "    new_index = index % len(lst)\n",
        "    return(lst[new_index])\n",
        "#increase the index position of the key by 1\n",
        "def cycle_increment_index(index,lst):\n",
        "    if index == len(lst) - 1:\n",
        "        index = 0\n",
        "    else:\n",
        "        index += 1\n",
        "    return(index)\n",
        "\n",
        "#returns the shifted letter\n",
        "def shift(letter,value):\n",
        "    current_letter_value = ALPHABET.find(letter)\n",
        "    end_value = current_letter_value + value\n",
        "    return(cycle_get(ALPHABET,end_value))\n",
        "\n",
        "#converts the key into a list of integer values \n",
        "def convert_key_to_numbers(key):\n",
        "    return([ALPHABET.find(i) for i in key])\n",
        "\n",
        "#Reverse Operations used to re-use the encryption in decryption too\n",
        "def encrypt(text,key,reverse_operation=False):\n",
        "    text = text.lower()\n",
        "    key = convert_key_to_numbers(key)\n",
        "    index_of_key = 0\n",
        "    result = \"\"\n",
        "    for char in text:\n",
        "        if char in CHARACTERS_THAT_MUST_REMAIN_THE_SAME:\n",
        "            result += char\n",
        "        else:\n",
        "            if not reverse_operation:\n",
        "                result += shift(char,key[index_of_key])\n",
        "            else:\n",
        "                result += shift(char,- key[index_of_key])\n",
        "            index_of_key = cycle_increment_index(index_of_key,key)\n",
        "    return(result)\n",
        "\n",
        "def decrypt(text,key):\n",
        "    return(encrypt(text,key,reverse_operation=True))\n",
        "\n",
        "message = 'hello kathmandu university in lower case!'\n",
        "secret = 'my_secretmy_secretmy_secret'\n",
        "secret1 = 'my_secret1my_secret1my_secret1'\n",
        "\n",
        "\n",
        "encryptMessage = encrypt(message,secret,False)\n",
        "decryptMessage = decrypt(encryptMessage,secret)\n",
        "\n",
        "print(\"Original string: \", message)\n",
        "print(\"Encrypted string: \", encryptMessage)\n",
        "print(\"Encrypted string: \", decryptMessage)"
      ],
      "metadata": {
        "id": "QzVD2PbDMOET",
        "colab": {
          "base_uri": "https://localhost:8080/"
        },
        "outputId": "ee9421fb-7284-43c6-8fa0-459a8db628e3"
      },
      "execution_count": null,
      "outputs": [
        {
          "output_type": "stream",
          "name": "stdout",
          "text": [
            "Original string:  hello kathmandu university in lower case!\n",
            "Encrypted string:  tckds mrxayymvy wemoqpraxa zr eaudj gcji!\n",
            "Encrypted string:  hello kathmandu university in lower case!\n"
          ]
        }
      ]
    },
    {
      "cell_type": "code",
      "source": [
        "# Practice for Substitution Ciphers - Polyalphabetic cipher or Vigenere cipher #10\n",
        "# Another implementation\n",
        "import string\n",
        "\n",
        "def encrypt(plaintext, key):\n",
        "    alphabet = string.ascii_lowercase\n",
        "    key = key.lower()\n",
        "    key_repeated = key * (len(plaintext) // len(key) + 1)\n",
        "    key_used = key_repeated[:len(plaintext)]\n",
        "    ciphertext = \"\"\n",
        "    for i in range(len(plaintext)):\n",
        "        if plaintext[i].isalpha():\n",
        "            char_index = (alphabet.index(plaintext[i].lower()) +\n",
        "                        alphabet.index(key_used[i])) % 26\n",
        "            if plaintext[i].isupper():\n",
        "                ciphertext += alphabet[char_index].upper()\n",
        "            else:\n",
        "                ciphertext += alphabet[char_index]\n",
        "        else:\n",
        "            ciphertext += plaintext[i]\n",
        "    return ciphertext\n",
        "\n",
        "def decrypt(ciphertext, key):\n",
        "    alphabet = string.ascii_lowercase\n",
        "    key = key.lower()\n",
        "    key_repeated = key * (len(ciphertext) // len(key) + 1)\n",
        "    key_used = key_repeated[:len(ciphertext)]\n",
        "    plaintext = \"\"\n",
        "    for i in range(len(ciphertext)):\n",
        "        if ciphertext[i].isalpha():\n",
        "            char_index = (alphabet.index(ciphertext[i].lower()) -\n",
        "                        alphabet.index(key_used[i])) % 26\n",
        "            if ciphertext[i].isupper():\n",
        "                plaintext += alphabet[char_index].upper()\n",
        "            else:\n",
        "                plaintext += alphabet[char_index]\n",
        "        else:\n",
        "            plaintext += ciphertext[i]\n",
        "    return plaintext\n",
        "\n",
        "# Test the functions\n",
        "message = \"Hello Kathmandu University!\"\n",
        "key = \"secret\"\n",
        "ciphertext = encrypt(message, key)\n",
        "print(\"Original String: \", message)\n",
        "print(\"Ciphertext: \", ciphertext)\n",
        "decrypted_text = decrypt(ciphertext, key)\n",
        "print(\"Decrypted Text: \", decrypted_text)\n"
      ],
      "metadata": {
        "colab": {
          "base_uri": "https://localhost:8080/"
        },
        "id": "upmmzvSYfnKO",
        "outputId": "65913236-a741-4cbd-ba1d-a49b47fe6ea9"
      },
      "execution_count": null,
      "outputs": [
        {
          "output_type": "stream",
          "name": "stdout",
          "text": [
            "Original String:  Hello Kathmandu University!\n",
            "Ciphertext:  Zincs Cevyqtfhw Ygazgiwblc!\n",
            "Decrypted Text:  Hello Kathmandu University!\n"
          ]
        }
      ]
    },
    {
      "cell_type": "code",
      "source": [
        "# Practice for Substitution Cipher - Using  key to shift alphabet #11\n",
        "# In the example, lower case letters example considered\n",
        "# TODO:\n",
        "# Upper case and mixed case example to consider\n",
        "import string\n",
        "\n",
        "def shift_alphabet(key):\n",
        "    # Substring from Key to end, and starting to key \n",
        "    shifted_alphabet = string.ascii_lowercase[key:] + string.ascii_lowercase[:key]\n",
        "    return shifted_alphabet\n",
        "\n",
        "#encrypts the plaintext by shifting each letter of the \n",
        "# plaintext by the key positions shifted alphabet\n",
        "def encrypt(plaintext, key):\n",
        "    shifted_alphabet = shift_alphabet(key)\n",
        "    plaintext = plaintext.lower()\n",
        "    ciphertext = \"\"\n",
        "    for char in plaintext:\n",
        "        if char in string.ascii_lowercase:\n",
        "            index = string.ascii_lowercase.index(char)\n",
        "            ciphertext += shifted_alphabet[index]\n",
        "        else:\n",
        "            ciphertext += char\n",
        "    return ciphertext\n",
        "\n",
        "def decrypt(ciphertext, key):\n",
        "    shifted_alphabet = shift_alphabet(key)\n",
        "    plaintext = \"\"\n",
        "    for char in ciphertext:\n",
        "        if char in shifted_alphabet:\n",
        "            index = shifted_alphabet.index(char)\n",
        "            plaintext += string.ascii_lowercase[index]\n",
        "        else:\n",
        "            plaintext += char\n",
        "    return plaintext\n",
        "\n",
        "message = \"hello kathmandu university!\"\n",
        "key = 3\n",
        "print(\"Originl message\", message)\n",
        "encrypt_message = encrypt(message, key)\n",
        "print(\"Encrypted message: \", encrypt_message)\n",
        "\n",
        "decrypt_message = decrypt(encrypt_message, key)\n",
        "print(\"Decrypted message: \", decrypt_message)\n",
        "\n"
      ],
      "metadata": {
        "id": "3HOxR71l3P2P",
        "colab": {
          "base_uri": "https://localhost:8080/"
        },
        "outputId": "2a1ec19f-8d1e-40c9-9c5f-f2529a7cd018"
      },
      "execution_count": null,
      "outputs": [
        {
          "output_type": "stream",
          "name": "stdout",
          "text": [
            "Originl message hello kathmandu university!\n",
            "Encrypted message:  khoor ndwkpdqgx xqlyhuvlwb!\n",
            "Decrypted message:  hello kathmandu university!\n"
          ]
        }
      ]
    },
    {
      "cell_type": "code",
      "source": [
        "# Practice for Transposition Cipher  Columnar Transposition #12\n",
        "# Reference - https://www.geeksforgeeks.org/columnar-transposition-cipher/\n",
        "import math\n",
        "    \n",
        "# Encryption\n",
        "def encrypt(msg,key):\n",
        "    cipher = \"\"\n",
        "  \n",
        "    # track key indices\n",
        "    k_indx = 0\n",
        "  \n",
        "    msg_len = float(len(msg))\n",
        "    msg_lst = list(msg)\n",
        "    key_lst = sorted(list(key))\n",
        "  \n",
        "    # calculate column of the matrix\n",
        "    col = len(key)\n",
        "      \n",
        "    # calculate maximum row of the matrix\n",
        "    row = int(math.ceil(msg_len / col))\n",
        "  \n",
        "    # add the padding character '_' in empty\n",
        "    # the empty cell of the matix \n",
        "    fill_null = int((row * col) - msg_len)\n",
        "    msg_lst.extend('_' * fill_null)\n",
        "  \n",
        "    # create Matrix and insert message and \n",
        "    # padding characters row-wise \n",
        "    matrix = [msg_lst[i: i + col] \n",
        "              for i in range(0, len(msg_lst), col)]\n",
        "  \n",
        "    # read matrix column-wise using key\n",
        "    for _ in range(col):\n",
        "        curr_idx = key.index(key_lst[k_indx])\n",
        "        cipher += ''.join([row[curr_idx] \n",
        "                          for row in matrix])\n",
        "        k_indx += 1\n",
        "  \n",
        "    return cipher\n",
        "  \n",
        "# Decryption\n",
        "def decrypt(cipher, key):\n",
        "    msg = \"\"\n",
        "  \n",
        "    # track key indices\n",
        "    k_indx = 0\n",
        "  \n",
        "    # track msg indices\n",
        "    msg_indx = 0\n",
        "    msg_len = float(len(cipher))\n",
        "    msg_lst = list(cipher)\n",
        "  \n",
        "    # calculate column of the matrix\n",
        "    col = len(key)\n",
        "      \n",
        "    # calculate maximum row of the matrix\n",
        "    row = int(math.ceil(msg_len / col))\n",
        "  \n",
        "    # convert key into list and sort \n",
        "    # alphabetically so we can access \n",
        "    # each character by its alphabetical position.\n",
        "    key_lst = sorted(list(key))\n",
        "  \n",
        "    # create an empty matrix to \n",
        "    # store deciphered message\n",
        "    dec_cipher = []\n",
        "    for _ in range(row):\n",
        "        dec_cipher += [[None] * col]\n",
        "  \n",
        "    # Arrange the matrix column wise according \n",
        "    # to permutation order by adding into new matrix\n",
        "    for _ in range(col):\n",
        "        curr_idx = key.index(key_lst[k_indx])\n",
        "  \n",
        "        for j in range(row):\n",
        "            dec_cipher[j][curr_idx] = msg_lst[msg_indx]\n",
        "            msg_indx += 1\n",
        "        k_indx += 1\n",
        "  \n",
        "    # convert decrypted msg matrix into a string\n",
        "    try:\n",
        "        msg = ''.join(sum(dec_cipher, []))\n",
        "    except TypeError:\n",
        "        raise TypeError(\"This program cannot\",\n",
        "                        \"handle repeating words.\")\n",
        "  \n",
        "    null_count = msg.count('_')\n",
        "  \n",
        "    if null_count > 0:\n",
        "        return msg[: -null_count]\n",
        "  \n",
        "    return msg\n",
        "  \n",
        "# Driver Code\n",
        "message = \"Hello Kathmandu University!\"\n",
        "key = \"1234567890\"\n",
        "print(\"Original Message:\", message)\n",
        "cipher = encrypt(message,key)\n",
        "print(\"Encrypted Message:\", cipher)\n",
        "print(\"Decryped Message:\",decrypt(cipher,key))\n",
        "\n"
      ],
      "metadata": {
        "colab": {
          "base_uri": "https://localhost:8080/"
        },
        "id": "dVzILY_49zan",
        "outputId": "c12e2019-0340-4f67-f640-ee2b1f66e0c2"
      },
      "execution_count": null,
      "outputs": [
        {
          "output_type": "stream",
          "name": "stdout",
          "text": [
            "Original Message: Hello Kathmandu University!\n",
            "Encrypted Message: hv_Hmeearlnsldiout  yKU!an_ti_\n",
            "Decryped Message: Hello Kathmandu University!\n"
          ]
        }
      ]
    },
    {
      "cell_type": "code",
      "source": [
        "# Practice for DES - #15\n",
        "from Crypto.Cipher import DES\n",
        "\n",
        "# Key must be 8 bytes long\n",
        "key = b'12345678'\n",
        "\n",
        "# Initialization Vector (IV) must also be 8 bytes long\n",
        "iv = b'12345678'\n",
        "\n",
        "# Create a new DES cipher object\n",
        "cipher = DES.new(key, DES.MODE_CBC, iv)\n",
        "\n",
        "# plaintext message to be encrypted\n",
        "plaintext = b'Hello Kathmandu University!'\n",
        "print(\"Original Message:\", plaintext)\n",
        "\n",
        "# Padding plaintext if necessary\n",
        "pad = 8 - (len(plaintext) % 8)\n",
        "plaintext += bytes([pad]) * pad\n",
        "\n",
        "# Encrypt the plaintext\n",
        "ciphertext = cipher.encrypt(plaintext)\n",
        "print(\"Encrypted Message:\", ciphertext)\n",
        "\n",
        "# Create a new DES cipher object\n",
        "cipher = DES.new(key, DES.MODE_CBC, iv)\n",
        "\n",
        "# Decrypt the ciphertext\n",
        "plaintext = cipher.decrypt(ciphertext)\n",
        "\n",
        "# Remove any padding\n",
        "plaintext = plaintext[:-plaintext[-1]]\n",
        "print(\"Decryped Message:\",plaintext)\n",
        "\n"
      ],
      "metadata": {
        "colab": {
          "base_uri": "https://localhost:8080/"
        },
        "id": "TS_tfzjkduFn",
        "outputId": "c138bd90-abb8-4bd4-e884-5fb3e9996636"
      },
      "execution_count": null,
      "outputs": [
        {
          "output_type": "stream",
          "name": "stdout",
          "text": [
            "Original Message: b'Hello Kathmandu University!'\n",
            "Encrypted Message: b'\\x8ccbn\\x0b\\xec\\x8b)\\xd5\\x8e\\x08\\x8a\\xcci/\\xaa{\\x0fuu\\xc5\\xb2(]5+\\xf8y\\x8c<n\\xb4'\n",
            "Decryped Message: b'Hello Kathmandu University!'\n"
          ]
        }
      ]
    },
    {
      "cell_type": "code",
      "source": [
        "#Praceice asymmetric encryption\n",
        "!pip install rsa"
      ],
      "metadata": {
        "colab": {
          "base_uri": "https://localhost:8080/"
        },
        "id": "Sksvu_pmz5Jl",
        "outputId": "1d158e1f-452f-41e8-ee65-3b63ded90da1"
      },
      "execution_count": null,
      "outputs": [
        {
          "output_type": "stream",
          "name": "stdout",
          "text": [
            "Looking in indexes: https://pypi.org/simple, https://us-python.pkg.dev/colab-wheels/public/simple/\n",
            "Requirement already satisfied: rsa in /usr/local/lib/python3.8/dist-packages (4.9)\n",
            "Requirement already satisfied: pyasn1>=0.1.3 in /usr/local/lib/python3.8/dist-packages (from rsa) (0.4.8)\n"
          ]
        }
      ]
    },
    {
      "cell_type": "code",
      "source": [
        "#Praceice asymmetric encryption - #18\n",
        "#Importing library\n",
        "import rsa\n",
        "#Generating public and private keys with key length 512,\n",
        "# where minimum keylength is 16\n",
        "publicKey, privateKey = rsa.newkeys(512)\n",
        " # message to encrypt\n",
        "message = \"Hello Kathmandu University!\"\n",
        "#Encrypting string with public key\n",
        "# encoding to byte string for the encryption\n",
        "encryptMessage = rsa.encrypt(message.encode(), publicKey)\n",
        "print(\"Original string: \", message)\n",
        "print(\"Encrypted string: \", encryptMessage)\n",
        "#Decrypting the message by private key \n",
        "decryptMessage = rsa.decrypt(encryptMessage, privateKey).decode()\n",
        "print(\"decrypted string: \", decryptMessage)"
      ],
      "metadata": {
        "colab": {
          "base_uri": "https://localhost:8080/"
        },
        "id": "ptscNx7t3dd6",
        "outputId": "4d69d115-7a94-487b-ad76-3f1807d14825"
      },
      "execution_count": null,
      "outputs": [
        {
          "output_type": "stream",
          "name": "stdout",
          "text": [
            "Original string:  Hello Kathmandu University!\n",
            "Encrypted string:  b\"\\x08\\xe5~\\xc8\\x94\\x81\\x14\\x0c\\xb8\\xa3\\x03%N\\x8e\\x08\\xf0tI\\xa7\\xe3|\\x1f\\x84\\x86\\x1e\\xa1\\x89\\xd4\\xb5)\\xc3\\r\\xe1j\\xc1\\xe4w\\xc4\\xb7'7\\xf3O\\x00\\x91\\xab\\x8cXP6?\\xf0dY\\\\r\\xd4\\x83\\x95.\\xc0\\x0c\\xae\\xf1\"\n",
            "decrypted string:  Hello Kathmandu University!\n"
          ]
        }
      ]
    },
    {
      "cell_type": "code",
      "source": [],
      "metadata": {
        "colab": {
          "base_uri": "https://localhost:8080/"
        },
        "id": "d0rmc2VzfKSq",
        "outputId": "9dd08d0e-9d68-48dd-c3ce-4fe750c5cb25"
      },
      "execution_count": null,
      "outputs": [
        {
          "output_type": "stream",
          "name": "stdout",
          "text": [
            "Original string:  hello kathmandu university in lower case!\n",
            "Encrypted string:  tckds mrxayymvy wemoqpraxa zr eaudj gcji!\n",
            "Encrypted string:  hello kathmandu university in lower case!\n"
          ]
        }
      ]
    },
    {
      "cell_type": "code",
      "source": [
        "#Assemetric Encryption Session-key encryption - #25\n",
        "#\n",
        "\n",
        "from Crypto.Cipher import DES, PKCS1_OAEP\n",
        "from Crypto.Random import get_random_bytes\n",
        "from Crypto.PublicKey import RSA\n",
        "\n",
        "# Generate a random session key for DES encryption\n",
        "session_key = get_random_bytes(8)\n",
        "\n",
        "# Generate RSA key\n",
        "private_key = RSA.generate(2048)\n",
        "public_key = private_key.publickey()\n",
        "\n",
        "# Encrypt the session key with the public RSA key\n",
        "rsa_encrypt = PKCS1_OAEP.new(public_key)\n",
        "enc_session_key = rsa_encrypt.encrypt(session_key)\n",
        "\n",
        "# Use DES to encrypt the data\n",
        "data = b'Hello Kathmandu University!!'\n",
        "print(\"Original Message:\",data)\n",
        "\n",
        "# Padding data if necessary\n",
        "pad = 8 - (len(data) % 8)\n",
        "data += bytes([pad]) * pad\n",
        "\n",
        "cipher_des = DES.new(session_key, DES.MODE_CBC, session_key)\n",
        "ciphertext = cipher_des.encrypt(data)\n",
        "print(\"Encrypted Message:\",ciphertext)\n",
        "\n",
        "# Now to decrypt the data\n",
        "# Use RSA to decrypt the session key\n",
        "rsa_decrypt = PKCS1_OAEP.new(private_key)\n",
        "session_key = rsa_decrypt.decrypt(enc_session_key)\n",
        "\n",
        "# Use DES to decrypt the data\n",
        "cipher_des = DES.new(session_key, DES.MODE_CBC, session_key)\n",
        "plaintext = cipher_des.decrypt(ciphertext)\n",
        "\n",
        "# Remove any padding\n",
        "plaintext = plaintext[:-plaintext[-1]]\n",
        "print(\"Decrypted Message:\",plaintext)"
      ],
      "metadata": {
        "colab": {
          "base_uri": "https://localhost:8080/"
        },
        "id": "-rZFJobskxFo",
        "outputId": "752bc3f4-9571-4b15-aa82-5a7760456506"
      },
      "execution_count": null,
      "outputs": [
        {
          "output_type": "stream",
          "name": "stdout",
          "text": [
            "Original Message: b'Hello Kathmandu University!!'\n",
            "Encrypted Message: b'<\\xcb\\xf3\\xa0Y\\xdd\\xe9\\xe0\\x9fQ\\xc9\\xe1V0\\xcd\\x118\\xafo\\xbe&.\\t\\xfa\\xe3\\xfd\\xc3\\x88\\x93\\xdee\\xa9'\n",
            "Decrypted Message: b'Hello Kathmandu University!!'\n"
          ]
        }
      ]
    },
    {
      "cell_type": "code",
      "source": [
        "#Praceice for Difie-Hellman (DH) Algorithm - #28\n",
        "from hashlib import sha256\n",
        "from random import randint\n",
        "\n",
        "# A large prime number\n",
        "p = 23\n",
        "\n",
        "# A primitive root of p\n",
        "g = 5\n",
        "\n",
        "# Secret key for Alice\n",
        "a = randint(1, p-1)\n",
        "\n",
        "# Secret key for Bob\n",
        "b = randint(1, p-1)\n",
        "\n",
        "# Generate the public keys\n",
        "A = pow(g, a, p)\n",
        "B = pow(g, b, p)\n",
        "\n",
        "# Exchange the public keys\n",
        "\n",
        "# Generate the shared secret key\n",
        "s_alice = pow(B, a, p)\n",
        "s_bob = pow(A, b, p)\n",
        "\n",
        "# Hash the shared secret key to generate a session key\n",
        "session_key_alice = sha256(str(s_alice).encode()).hexdigest()\n",
        "session_key_bob = sha256(str(s_bob).encode()).hexdigest()\n",
        "\n",
        "print(\"session_key_alice:\",session_key_alice)\n",
        "print(\"session_key_bob:\",session_key_bob)\n",
        "\n",
        "# Now the session_key_alice and session_key_bob are the same and can be used for symmetric encryption\n",
        "# Now the session_key_alice and session_key_bob can be used for symmetric encryption\n"
      ],
      "metadata": {
        "colab": {
          "base_uri": "https://localhost:8080/"
        },
        "id": "_N5OVlHUobsZ",
        "outputId": "8e07272a-018a-4706-ff02-46f259a2445c"
      },
      "execution_count": null,
      "outputs": [
        {
          "output_type": "stream",
          "name": "stdout",
          "text": [
            "session_key_alice: e7f6c011776e8db7cd330b54174fd76f7d0216b612387a5ffcfb81e6f0919683\n",
            "session_key_bob: e7f6c011776e8db7cd330b54174fd76f7d0216b612387a5ffcfb81e6f0919683\n"
          ]
        }
      ]
    },
    {
      "cell_type": "code",
      "source": [
        "#Practice for Authentication with message digests - #30\n",
        "#\n",
        "\n",
        "import hashlib\n",
        "\n",
        "# The message to be authenticated\n",
        "message = b'Hello Kathmandu University!'\n",
        "\n",
        "# Calculate the message digest\n",
        "digest = hashlib.sha256(message).hexdigest()\n",
        "\n",
        "# Send the message and the digest to the recipient\n",
        "# ...\n",
        "\n",
        "# The recipient receives the message and the digest\n",
        "received_message = message\n",
        "received_digest = digest\n",
        "\n",
        "# Calculate the message digest of the received message\n",
        "calculated_digest = hashlib.sha256(received_message).hexdigest()\n",
        "\n",
        "# Compare the received digest and the calculated digest\n",
        "print(\"Case#1 - no tampered message\")\n",
        "if received_digest == calculated_digest:\n",
        "    print(\"The message is authentic\")\n",
        "else:\n",
        "    print(\"The message may have been tampered with\")\n",
        "\n",
        "# The recipient receives the message and the digest\n",
        "# Tampered message where full stop added at the end of message\n",
        "received_message = message + b\".\"\n",
        "received_digest = digest\n",
        "\n",
        "# Calculate the message digest of the received message\n",
        "calculated_digest = hashlib.sha256(received_message).hexdigest()\n",
        "\n",
        "# Compare the received digest and the calculated digest\n",
        "print(\"Case#2 - Message Tempaered, full stop added at the end of message\")\n",
        "if received_digest == calculated_digest:\n",
        "    print(\"The message is authentic\")\n",
        "else:\n",
        "    print(\"The message may have been tampered\")\n"
      ],
      "metadata": {
        "colab": {
          "base_uri": "https://localhost:8080/"
        },
        "id": "r3ShF_J04AIS",
        "outputId": "2f38cc5a-16fc-4770-9468-8bd1a25cc14a"
      },
      "execution_count": null,
      "outputs": [
        {
          "output_type": "stream",
          "name": "stdout",
          "text": [
            "Case#1 - no tampered message\n",
            "The message is authentic\n",
            "Case#2 - Message Tempaered, full stop added at the end of message\n",
            "The message may have been tampered\n"
          ]
        }
      ]
    },
    {
      "cell_type": "code",
      "source": [
        "# Praceice for Password Authentication - #33\n",
        "import hashlib\n",
        "\n",
        "# The hashed password that is stored in the database\n",
        "# Assuming that p@$$w0rd is the password stored in the database\n",
        "hashed_password = hashlib.sha256(b'p@$$w0rd').hexdigest()\n",
        "\n",
        "# The user enters their password\n",
        "password_provided = input(\"Enter your password: \").encode()\n",
        "\n",
        "# Hash the entered password\n",
        "entered_password = hashlib.sha256(password_provided).hexdigest()\n",
        "\n",
        "# Compare the entered password with the stored password\n",
        "if entered_password == hashed_password:\n",
        "    print(\"Access granted\")\n",
        "else:\n",
        "    print(\"Access denied, wrong password attempt!\")"
      ],
      "metadata": {
        "colab": {
          "base_uri": "https://localhost:8080/"
        },
        "id": "HA9pHYD46N0f",
        "outputId": "7762862a-e689-496e-9b63-7431abd0faac"
      },
      "execution_count": null,
      "outputs": [
        {
          "output_type": "stream",
          "name": "stdout",
          "text": [
            "Enter your password: p@$$w0rd\n",
            "Access granted\n"
          ]
        }
      ]
    },
    {
      "cell_type": "code",
      "source": [
        "# Layout for Kerberos implementation - #35\n",
        "#\n",
        "# Kerberos is a network authentication protocol that uses symmetric key \n",
        "# encryption and a key distribution center (KDC) to securely authenticate \n",
        "# users and servers. Implementing Kerberos in Python can be quite complex, \n",
        "# as it involves several steps and requires a good understanding of the \n",
        "# Kerberos protocol.\n",
        "import kerberos\n",
        "\n",
        "# The service principal to authenticate to\n",
        "service = \"HTTP/example.com\"\n",
        "\n",
        "# The user principal to authenticate as\n",
        "user = \"user@EXAMPLE.COM\"\n",
        "\n",
        "# ...\n",
        "# setup kerberos is requires here, it's out of scope now\n",
        "# ...\n",
        "# Request a Kerberos ticket-granting ticket\n",
        "#(authenticator, context) = kerberos.authGSSClientInit(service)\n",
        "#kerberos.authGSSClientStep(context, \"\")\n",
        "\n",
        "# Use the authenticated connection\n",
        "# ...\n",
        "\n",
        "# Release the Kerberos context\n",
        "#kerberos.authGSSClientClean(context)"
      ],
      "metadata": {
        "id": "lB8y8EUQ8oyV"
      },
      "execution_count": null,
      "outputs": []
    },
    {
      "cell_type": "code",
      "source": [
        "# Practice for Digital Signature in the authentication process - #39\n",
        "#\n",
        "# Digital signatures are a method of authenticating the identity \n",
        "# of the sender of a message and verifying the integrity of the message \n",
        "# by using a private key to sign the message, and a public key to verify \n",
        "# the signature.\n",
        "#\n",
        "from Crypto.PublicKey import RSA\n",
        "from Crypto.Signature import pkcs1_15\n",
        "from Crypto.Hash import SHA256\n",
        "\n",
        "# Generate a new RSA key pair\n",
        "private_key = RSA.generate(2048)\n",
        "public_key = private_key.publickey()\n",
        "\n",
        "# The message to be signed\n",
        "message = b\"Hello Kathmandu University, this is the message to be signed\"\n",
        "\n",
        "# Create a SHA-256 hash of the message\n",
        "hash_object = SHA256.new(message)\n",
        "\n",
        "# Sign the message using the private key\n",
        "signature = pkcs1_15.new(private_key).sign(hash_object)\n",
        "\n",
        "# Verify the signature using the public key\n",
        "try:\n",
        "    print('hash_object',hash_object)\n",
        "    print('Signature',signature)\n",
        "    pkcs1_15.new(public_key).verify(hash_object, signature)\n",
        "    print(\"The signature is valid.\")\n",
        "except (ValueError, TypeError):\n",
        "    print(\"The signature is invalid.\")\n",
        "\n",
        "# Create a SHA-256 hash of the message\n",
        "hash_object = SHA256.new(message)\n",
        "# Sign the message using the private key\n",
        "# IMP - Also, tampered the signature by appending .\n",
        "signature_tampered = pkcs1_15.new(private_key).sign(hash_object) + b'.'\n",
        "\n",
        "# Verify the signature using the public key\n",
        "try:\n",
        "    print('hash_object',hash_object)\n",
        "    print('Signature',signature_tampered)\n",
        "    pkcs1_15.new(public_key).verify(hash_object, signature_tampered)\n",
        "    print(\"The signature is valid.\")\n",
        "except (ValueError, TypeError):\n",
        "    print(\"The signature is invalid.\")\n",
        "\n"
      ],
      "metadata": {
        "id": "3wsGPUMhBSiP",
        "colab": {
          "base_uri": "https://localhost:8080/"
        },
        "outputId": "9d6fe6fe-7267-416e-b7b7-0a3b0148f14e"
      },
      "execution_count": null,
      "outputs": [
        {
          "output_type": "stream",
          "name": "stdout",
          "text": [
            "hash_object <Crypto.Hash.SHA256.SHA256Hash object at 0x7fb1f5b667f0>\n",
            "Signature b'k`Z+\\x17(}\\xd0\\xa7\\x9f\\xe9\\x82\\x92\\x04\\x10lO\\x95\\xd6\\xf96\\xbd\\xda_\\x162g\\xa8\\xd5\\\\\\xfa\\xb6\\nIq\\xce(F\\\\\\xe0%\\x9e\\xa3d\\xf8\\xd0\\x97x\\x07\\xa8{\\xe9\\xef_C\\xd2\\xc9\\x998\"\\x88\\xe3\\xdf\\xc4\\x86\\xc3\\x08\\xf2\\x8f\\xf2|M\\x0f;\\x90\\xf0\\xac$\\xf7\\xadTJu\\x98\\xa6\\xb5E\\x80\\x81\\x0e\\x15\\x8e\\x93\\x07\\x17>#\\xd1\\xf1\\xd6\\x8e\\xf42sK5$\\xc5\\xc2N\\x8a\\x9f\\x01\\x80\\xd3u\\x82\\x95\\x81\\x11-\\x9c\\xd6\\'t\\xd5w\\xd2\\x07\\x11\\xdf\\xdd\\xf7\\x9e\\x91\\xff\\x81\\xf4lw\\x9a\\xd2\\xa7\\x93\\x8b\\xf6\\xe7\\\\pD\\x00\\xfa{\\xca\\xcf\\xd3l\\xea\\xa0\\xe7\\xef\\xb7\\x83\\x86E\\x9coa\\x01\\xdbdy\\x86\\xf9@\\x96{8\\x82\\xf4\\xa3.Uu\\xb5*\\xab\\x07\\xa6sn\\xa1|\\xf7\\xe3\\xe3\\x96z\\xd6\\xe2\\x1a\\xa0\\x19\\x89\\x86\\x1e\\xf2\\xb0\\xee\\x13{]\\xbc\\xda\\xf34\\xcbw\\xb2\\xb2\\x94\\xbe`M\\'\\xbfR\\xd5U \\xe3\\xc0W\\xbc\\xd9\\x08\\xd9\\xdc\\x054q\\xc3R\\xf6\\xff\\xd5\\x89tS\\x8e\\x02\\x12O\\xd9 Z'\n",
            "The signature is valid.\n",
            "hash_object <Crypto.Hash.SHA256.SHA256Hash object at 0x7fb1f5b66e80>\n",
            "Signature b'k`Z+\\x17(}\\xd0\\xa7\\x9f\\xe9\\x82\\x92\\x04\\x10lO\\x95\\xd6\\xf96\\xbd\\xda_\\x162g\\xa8\\xd5\\\\\\xfa\\xb6\\nIq\\xce(F\\\\\\xe0%\\x9e\\xa3d\\xf8\\xd0\\x97x\\x07\\xa8{\\xe9\\xef_C\\xd2\\xc9\\x998\"\\x88\\xe3\\xdf\\xc4\\x86\\xc3\\x08\\xf2\\x8f\\xf2|M\\x0f;\\x90\\xf0\\xac$\\xf7\\xadTJu\\x98\\xa6\\xb5E\\x80\\x81\\x0e\\x15\\x8e\\x93\\x07\\x17>#\\xd1\\xf1\\xd6\\x8e\\xf42sK5$\\xc5\\xc2N\\x8a\\x9f\\x01\\x80\\xd3u\\x82\\x95\\x81\\x11-\\x9c\\xd6\\'t\\xd5w\\xd2\\x07\\x11\\xdf\\xdd\\xf7\\x9e\\x91\\xff\\x81\\xf4lw\\x9a\\xd2\\xa7\\x93\\x8b\\xf6\\xe7\\\\pD\\x00\\xfa{\\xca\\xcf\\xd3l\\xea\\xa0\\xe7\\xef\\xb7\\x83\\x86E\\x9coa\\x01\\xdbdy\\x86\\xf9@\\x96{8\\x82\\xf4\\xa3.Uu\\xb5*\\xab\\x07\\xa6sn\\xa1|\\xf7\\xe3\\xe3\\x96z\\xd6\\xe2\\x1a\\xa0\\x19\\x89\\x86\\x1e\\xf2\\xb0\\xee\\x13{]\\xbc\\xda\\xf34\\xcbw\\xb2\\xb2\\x94\\xbe`M\\'\\xbfR\\xd5U \\xe3\\xc0W\\xbc\\xd9\\x08\\xd9\\xdc\\x054q\\xc3R\\xf6\\xff\\xd5\\x89tS\\x8e\\x02\\x12O\\xd9 Z.'\n",
            "The signature is invalid.\n"
          ]
        }
      ]
    },
    {
      "cell_type": "code",
      "source": [],
      "metadata": {
        "id": "Y1yOJIYUf3Mr"
      },
      "execution_count": null,
      "outputs": []
    }
  ]
}